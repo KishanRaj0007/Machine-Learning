{
 "cells": [
  {
   "cell_type": "code",
   "execution_count": 4,
   "id": "feb28d57-998c-4196-a4f6-3111989e5fa1",
   "metadata": {},
   "outputs": [],
   "source": [
    "from sklearn.datasets import load_iris"
   ]
  },
  {
   "cell_type": "code",
   "execution_count": 8,
   "id": "81ddf808-3f52-4cfe-bf77-d57139085d8f",
   "metadata": {},
   "outputs": [],
   "source": [
    "iris = load_iris()"
   ]
  },
  {
   "cell_type": "code",
   "execution_count": 12,
   "id": "5649c689-1dd1-4550-934c-6bfa1b165812",
   "metadata": {},
   "outputs": [
    {
     "data": {
      "text/plain": [
       "['DESCR',\n",
       " 'data',\n",
       " 'data_module',\n",
       " 'feature_names',\n",
       " 'filename',\n",
       " 'frame',\n",
       " 'target',\n",
       " 'target_names']"
      ]
     },
     "execution_count": 12,
     "metadata": {},
     "output_type": "execute_result"
    }
   ],
   "source": [
    "dir(iris)"
   ]
  },
  {
   "cell_type": "code",
   "execution_count": 9,
   "id": "418c0146-737b-4e15-96bf-0a36b9296e39",
   "metadata": {},
   "outputs": [],
   "source": [
    "def get_score(model, x_train, x_test, y_train, y_test):\n",
    "    model.fit(x_train, y_train)\n",
    "    return model.score(x_test, y_test)"
   ]
  },
  {
   "cell_type": "code",
   "execution_count": 10,
   "id": "ff64bd16-ff53-4322-8de5-962b8e24432f",
   "metadata": {},
   "outputs": [],
   "source": [
    "from sklearn.model_selection import StratifiedKFold\n",
    "folds = StratifiedKFold(n_splits = 3)"
   ]
  },
  {
   "cell_type": "code",
   "execution_count": 11,
   "id": "7d107dee-65f1-4704-95fa-9f31080c5028",
   "metadata": {},
   "outputs": [],
   "source": [
    "score_logistic_reg = []\n",
    "score_svm = []\n",
    "score_random_forest = []"
   ]
  },
  {
   "cell_type": "code",
   "execution_count": 26,
   "id": "393bdcff-4cf8-44f9-94af-82f49e33c7ca",
   "metadata": {},
   "outputs": [
    {
     "data": {
      "text/plain": [
       "(150, 4)"
      ]
     },
     "execution_count": 26,
     "metadata": {},
     "output_type": "execute_result"
    }
   ],
   "source": [
    "x = iris.data\n",
    "x.shape"
   ]
  },
  {
   "cell_type": "code",
   "execution_count": 25,
   "id": "13d199b6-701b-4631-a1f0-88ce31f0a0df",
   "metadata": {},
   "outputs": [
    {
     "data": {
      "text/plain": [
       "(150,)"
      ]
     },
     "execution_count": 25,
     "metadata": {},
     "output_type": "execute_result"
    }
   ],
   "source": [
    "y = iris.target\n",
    "y.shape"
   ]
  },
  {
   "cell_type": "code",
   "execution_count": 28,
   "id": "547ffcb0-5602-498c-9cee-e14a49e0f5fd",
   "metadata": {},
   "outputs": [],
   "source": [
    "from sklearn.linear_model import LogisticRegression\n",
    "from sklearn.svm import SVC\n",
    "from sklearn.ensemble import RandomForestClassifier"
   ]
  },
  {
   "cell_type": "markdown",
   "id": "d85bf9cc-3d55-40c4-a26d-db2a56e9eeb3",
   "metadata": {},
   "source": [
    "### Logistic regression often performs better with standardized data, so we should scale the data to avoid ConvergenceWarning"
   ]
  },
  {
   "cell_type": "code",
   "execution_count": 30,
   "id": "f8f61236-7767-4e03-8193-eabe0359a6f3",
   "metadata": {},
   "outputs": [],
   "source": [
    "from sklearn.preprocessing import StandardScaler\n",
    "scaler = StandardScaler()\n",
    "x_scaled = scaler.fit_transform(x)"
   ]
  },
  {
   "cell_type": "code",
   "execution_count": 31,
   "id": "e1073d1a-67e4-4f79-81e6-c3a0e04aca5a",
   "metadata": {},
   "outputs": [],
   "source": [
    "for train_index, test_index in folds.split(x_scaled,y):\n",
    "    x_train, x_test, y_train, y_test = x_scaled[train_index], x_scaled[test_index], y[train_index],y[test_index]\n",
    "    score_logistic_reg.append(get_score(LogisticRegression(), x_train, x_test, y_train, y_test))\n",
    "    score_svm.append(get_score(SVC(), x_train, x_test, y_train, y_test))\n",
    "    score_random_forest.append(get_score(RandomForestClassifier(), x_train, x_test, y_train, y_test))"
   ]
  },
  {
   "cell_type": "code",
   "execution_count": 35,
   "id": "e89325f6-49f4-48e0-ab6d-9f7bde1c0976",
   "metadata": {},
   "outputs": [],
   "source": [
    "logit_score = sum(score_logistic_reg)/len(score_logistic_reg)\n",
    "svm_score = sum(score_svm)/len(score_svm)\n",
    "random_forest_score = sum(score_random_forest)/len(score_random_forest)"
   ]
  },
  {
   "cell_type": "code",
   "execution_count": 36,
   "id": "acb9566f-afb6-4783-921d-8e219734a5bd",
   "metadata": {},
   "outputs": [
    {
     "data": {
      "text/plain": [
       "0.9714285714285714"
      ]
     },
     "execution_count": 36,
     "metadata": {},
     "output_type": "execute_result"
    }
   ],
   "source": [
    "logit_score"
   ]
  },
  {
   "cell_type": "code",
   "execution_count": 37,
   "id": "53d00949-5532-4a7d-a416-86b437b7150a",
   "metadata": {},
   "outputs": [
    {
     "data": {
      "text/plain": [
       "0.9628571428571429"
      ]
     },
     "execution_count": 37,
     "metadata": {},
     "output_type": "execute_result"
    }
   ],
   "source": [
    "svm_score"
   ]
  },
  {
   "cell_type": "code",
   "execution_count": 38,
   "id": "a97afb4d-59e4-4d46-b8ae-814da0e7c373",
   "metadata": {},
   "outputs": [
    {
     "data": {
      "text/plain": [
       "0.96"
      ]
     },
     "execution_count": 38,
     "metadata": {},
     "output_type": "execute_result"
    }
   ],
   "source": [
    "random_forest_score"
   ]
  },
  {
   "cell_type": "code",
   "execution_count": 41,
   "id": "8f8a2320-e360-4406-b9cf-8c9ed095f1e4",
   "metadata": {},
   "outputs": [],
   "source": [
    "data_scaled = scaler.fit_transform(iris.data)"
   ]
  },
  {
   "cell_type": "markdown",
   "id": "3134606a-6de2-4aec-bb5d-26ec4b3234b4",
   "metadata": {},
   "source": [
    "### We can do the same task using sklearn library"
   ]
  },
  {
   "cell_type": "code",
   "execution_count": 85,
   "id": "0e3c7a53-b1b6-4db2-a281-b5ccbdc46ef1",
   "metadata": {},
   "outputs": [],
   "source": [
    "from sklearn.model_selection import cross_val_score\n",
    "logit = cross_val_score(LogisticRegression(), data_scaled, iris.target)\n",
    "svm = cross_val_score(SVC(), data_scaled, iris.target)\n",
    "rand_forest = cross_val_score(RandomForestClassifier(n_estimators = 45), data_scaled, iris.target)"
   ]
  },
  {
   "cell_type": "code",
   "execution_count": 86,
   "id": "e6727e2c-ccd2-44fd-883b-5f252b9c67fa",
   "metadata": {},
   "outputs": [
    {
     "data": {
      "text/plain": [
       "0.9600000000000002"
      ]
     },
     "execution_count": 86,
     "metadata": {},
     "output_type": "execute_result"
    }
   ],
   "source": [
    "log_score_lib = sum(logit)/len(logit)\n",
    "log_score_lib"
   ]
  },
  {
   "cell_type": "code",
   "execution_count": 87,
   "id": "327425e2-5e9d-4524-85a4-0bc21df45076",
   "metadata": {},
   "outputs": [
    {
     "data": {
      "text/plain": [
       "0.9666666666666666"
      ]
     },
     "execution_count": 87,
     "metadata": {},
     "output_type": "execute_result"
    }
   ],
   "source": [
    "svm_score_lib = sum(svm)/len(svm)\n",
    "svm_score_lib"
   ]
  },
  {
   "cell_type": "code",
   "execution_count": 88,
   "id": "40331d9d-a065-4995-8e3f-b878ae5f9615",
   "metadata": {},
   "outputs": [
    {
     "data": {
      "text/plain": [
       "0.96"
      ]
     },
     "execution_count": 88,
     "metadata": {},
     "output_type": "execute_result"
    }
   ],
   "source": [
    "rand_forest_score_lib = sum(rand_forest)/len(rand_forest)\n",
    "rand_forest_score_lib"
   ]
  },
  {
   "cell_type": "code",
   "execution_count": null,
   "id": "8b67828a-f2c9-4f52-98de-191f1b8c40ee",
   "metadata": {},
   "outputs": [],
   "source": []
  }
 ],
 "metadata": {
  "kernelspec": {
   "display_name": "Python 3 (ipykernel)",
   "language": "python",
   "name": "python3"
  },
  "language_info": {
   "codemirror_mode": {
    "name": "ipython",
    "version": 3
   },
   "file_extension": ".py",
   "mimetype": "text/x-python",
   "name": "python",
   "nbconvert_exporter": "python",
   "pygments_lexer": "ipython3",
   "version": "3.8.18"
  }
 },
 "nbformat": 4,
 "nbformat_minor": 5
}
